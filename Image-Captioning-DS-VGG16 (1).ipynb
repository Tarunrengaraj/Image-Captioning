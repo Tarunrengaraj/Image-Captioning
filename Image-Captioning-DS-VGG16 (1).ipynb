{
 "cells": [
  {
   "cell_type": "code",
   "execution_count": 1,
   "metadata": {},
   "outputs": [],
   "source": [
    "import pandas as pd "
   ]
  },
  {
   "cell_type": "code",
   "execution_count": 2,
   "metadata": {},
   "outputs": [],
   "source": [
    "import numpy as np "
   ]
  },
  {
   "cell_type": "code",
   "execution_count": 3,
   "metadata": {},
   "outputs": [],
   "source": [
    "from PIL import Image"
   ]
  },
  {
   "cell_type": "code",
   "execution_count": 4,
   "metadata": {},
   "outputs": [],
   "source": [
    "from matplotlib import pyplot as plt"
   ]
  },
  {
   "cell_type": "code",
   "execution_count": 5,
   "metadata": {},
   "outputs": [],
   "source": [
    "from tqdm.notebook import tqdm"
   ]
  },
  {
   "cell_type": "code",
   "execution_count": 6,
   "metadata": {},
   "outputs": [],
   "source": [
    "from nltk.translate.bleu_score import corpus_bleu"
   ]
  },
  {
   "cell_type": "code",
   "execution_count": 7,
   "metadata": {},
   "outputs": [],
   "source": [
    "import pickle "
   ]
  },
  {
   "cell_type": "code",
   "execution_count": 8,
   "metadata": {},
   "outputs": [],
   "source": [
    "from tensorflow.keras.preprocessing.sequence import pad_sequences "
   ]
  },
  {
   "cell_type": "code",
   "execution_count": 9,
   "metadata": {},
   "outputs": [],
   "source": [
    "from tensorflow.keras.models import Model, load_model"
   ]
  },
  {
   "cell_type": "code",
   "execution_count": 10,
   "metadata": {},
   "outputs": [],
   "source": [
    "import os"
   ]
  },
  {
   "cell_type": "code",
   "execution_count": 11,
   "metadata": {},
   "outputs": [],
   "source": [
    "import numpy as np"
   ]
  },
  {
   "cell_type": "code",
   "execution_count": 12,
   "metadata": {},
   "outputs": [],
   "source": [
    "from tensorflow.keras.applications.vgg16 import VGG16, preprocess_input"
   ]
  },
  {
   "cell_type": "code",
   "execution_count": 13,
   "metadata": {},
   "outputs": [],
   "source": [
    "from tensorflow.keras.preprocessing.image import load_img, img_to_array"
   ]
  },
  {
   "cell_type": "code",
   "execution_count": 14,
   "metadata": {},
   "outputs": [],
   "source": [
    "from tensorflow.keras.preprocessing.text import Tokenizer"
   ]
  },
  {
   "cell_type": "code",
   "execution_count": 15,
   "metadata": {},
   "outputs": [],
   "source": [
    "from tensorflow.keras.utils import to_categorical, plot_model "
   ]
  },
  {
   "cell_type": "code",
   "execution_count": null,
   "metadata": {},
   "outputs": [],
   "source": [
    "from tensorflow.keras.layers import Input, Dense, LSTM, Embedding, Dropout, add"
   ]
  },
  {
   "cell_type": "code",
   "execution_count": null,
   "metadata": {},
   "outputs": [],
   "source": [
    "BASE_DIR = 'Dataset/'\n",
    "WORKING_DIR = './'"
   ]
  },
  {
   "cell_type": "code",
   "execution_count": 4,
   "metadata": {
    "execution": {
     "iopub.execute_input": "2023-12-13T18:39:11.194585Z",
     "iopub.status.busy": "2023-12-13T18:39:11.194063Z",
     "iopub.status.idle": "2023-12-13T18:39:11.198925Z",
     "shell.execute_reply": "2023-12-13T18:39:11.198018Z",
     "shell.execute_reply.started": "2023-12-13T18:39:11.194558Z"
    }
   },
   "outputs": [],
   "source": [
    "model = VGG16()"
   ]
  },
  {
   "cell_type": "code",
   "execution_count": null,
   "metadata": {},
   "outputs": [],
   "source": [
    "model = Model(inputs=model.inputs, outputs=model.layers[-2].output)"
   ]
  },
  {
   "cell_type": "code",
   "execution_count": 5,
   "metadata": {
    "execution": {
     "iopub.execute_input": "2023-12-13T18:39:11.202048Z",
     "iopub.status.busy": "2023-12-13T18:39:11.201119Z",
     "iopub.status.idle": "2023-12-13T18:39:32.203731Z",
     "shell.execute_reply": "2023-12-13T18:39:32.203047Z",
     "shell.execute_reply.started": "2023-12-13T18:39:11.202014Z"
    }
   },
   "outputs": [
    {
     "name": "stdout",
     "output_type": "stream",
     "text": [
      "Model: \"model\"\n",
      "_________________________________________________________________\n",
      " Layer (type)                Output Shape              Param #   \n",
      "=================================================================\n",
      " input_1 (InputLayer)        [(None, 224, 224, 3)]     0         \n",
      "                                                                 \n",
      " block1_conv1 (Conv2D)       (None, 224, 224, 64)      1792      \n",
      "                                                                 \n",
      " block1_conv2 (Conv2D)       (None, 224, 224, 64)      36928     \n",
      "                                                                 \n",
      " block1_pool (MaxPooling2D)  (None, 112, 112, 64)      0         \n",
      "                                                                 \n",
      " block2_conv1 (Conv2D)       (None, 112, 112, 128)     73856     \n",
      "                                                                 \n",
      " block2_conv2 (Conv2D)       (None, 112, 112, 128)     147584    \n",
      "                                                                 \n",
      " block2_pool (MaxPooling2D)  (None, 56, 56, 128)       0         \n",
      "                                                                 \n",
      " block3_conv1 (Conv2D)       (None, 56, 56, 256)       295168    \n",
      "                                                                 \n",
      " block3_conv2 (Conv2D)       (None, 56, 56, 256)       590080    \n",
      "                                                                 \n",
      " block3_conv3 (Conv2D)       (None, 56, 56, 256)       590080    \n",
      "                                                                 \n",
      " block3_pool (MaxPooling2D)  (None, 28, 28, 256)       0         \n",
      "                                                                 \n",
      " block4_conv1 (Conv2D)       (None, 28, 28, 512)       1180160   \n",
      "                                                                 \n",
      " block4_conv2 (Conv2D)       (None, 28, 28, 512)       2359808   \n",
      "                                                                 \n",
      " block4_conv3 (Conv2D)       (None, 28, 28, 512)       2359808   \n",
      "                                                                 \n",
      " block4_pool (MaxPooling2D)  (None, 14, 14, 512)       0         \n",
      "                                                                 \n",
      " block5_conv1 (Conv2D)       (None, 14, 14, 512)       2359808   \n",
      "                                                                 \n",
      " block5_conv2 (Conv2D)       (None, 14, 14, 512)       2359808   \n",
      "                                                                 \n",
      " block5_conv3 (Conv2D)       (None, 14, 14, 512)       2359808   \n",
      "                                                                 \n",
      " block5_pool (MaxPooling2D)  (None, 7, 7, 512)         0         \n",
      "                                                                 \n",
      " flatten (Flatten)           (None, 25088)             0         \n",
      "                                                                 \n",
      " fc1 (Dense)                 (None, 4096)              102764544 \n",
      "                                                                 \n",
      " fc2 (Dense)                 (None, 4096)              16781312  \n",
      "                                                                 \n",
      "=================================================================\n",
      "Total params: 134,260,544\n",
      "Trainable params: 134,260,544\n",
      "Non-trainable params: 0\n",
      "_________________________________________________________________\n",
      "None\n"
     ]
    }
   ],
   "source": [
    "print(model.summary())"
   ]
  },
  {
   "cell_type": "code",
   "execution_count": null,
   "metadata": {},
   "outputs": [],
   "source": [
    "features = {} \n",
    "directory = os.path.join(BASE_DIR, 'Images') "
   ]
  },
  {
   "cell_type": "code",
   "execution_count": 6,
   "metadata": {
    "execution": {
     "iopub.execute_input": "2023-12-13T18:39:32.206470Z",
     "iopub.status.busy": "2023-12-13T18:39:32.206189Z",
     "iopub.status.idle": "2023-12-13T18:50:11.077205Z",
     "shell.execute_reply": "2023-12-13T18:50:11.076235Z",
     "shell.execute_reply.started": "2023-12-13T18:39:32.206444Z"
    }
   },
   "outputs": [
    {
     "data": {
      "application/vnd.jupyter.widget-view+json": {
       "model_id": "a7a53dc63dd9429e89740b70057f3a03",
       "version_major": 2,
       "version_minor": 0
      },
      "text/plain": [
       "  0%|          | 0/8091 [00:00<?, ?it/s]"
      ]
     },
     "metadata": {},
     "output_type": "display_data"
    }
   ],
   "source": [
    "for img_name in tqdm(os.listdir(directory)):\n",
    "    img_path = directory + \"/\" + img_name \n",
    "    image = load_img(img_path, target_size=(224, 224)) \n",
    "    image = img_to_array(image) \n",
    "    \n",
    "    image = image.reshape((1, image.shape[0], image.shape[1], image.shape[2])) \n",
    "    image = preprocess_input(image) \n",
    "    \n",
    "    img_feature = model.predict(image, verbose=0)\n",
    "    \n",
    "    image_id = img_name.split('.')[0] \n",
    "    \n",
    "    features[image_id] = img_feature \n"
   ]
  },
  {
   "cell_type": "code",
   "execution_count": 7,
   "metadata": {
    "execution": {
     "iopub.execute_input": "2023-12-13T18:50:11.078744Z",
     "iopub.status.busy": "2023-12-13T18:50:11.078448Z",
     "iopub.status.idle": "2023-12-13T18:50:11.348327Z",
     "shell.execute_reply": "2023-12-13T18:50:11.347488Z",
     "shell.execute_reply.started": "2023-12-13T18:50:11.078718Z"
    }
   },
   "outputs": [],
   "source": [
    "pickle.dump(features, open(os.path.join(WORKING_DIR, 'features.pkl'), 'wb'))"
   ]
  },
  {
   "cell_type": "code",
   "execution_count": 8,
   "metadata": {
    "execution": {
     "iopub.execute_input": "2023-12-13T18:50:11.349808Z",
     "iopub.status.busy": "2023-12-13T18:50:11.349530Z",
     "iopub.status.idle": "2023-12-13T18:50:11.501135Z",
     "shell.execute_reply": "2023-12-13T18:50:11.500290Z",
     "shell.execute_reply.started": "2023-12-13T18:50:11.349784Z"
    }
   },
   "outputs": [],
   "source": [
    "with open(os.path.join(WORKING_DIR, 'features.pkl'), 'rb') as f:\n",
    "    features = pickle.load(f)"
   ]
  },
  {
   "cell_type": "code",
   "execution_count": 9,
   "metadata": {
    "execution": {
     "iopub.execute_input": "2023-12-13T18:50:11.505355Z",
     "iopub.status.busy": "2023-12-13T18:50:11.504960Z",
     "iopub.status.idle": "2023-12-13T18:50:11.567354Z",
     "shell.execute_reply": "2023-12-13T18:50:11.566610Z",
     "shell.execute_reply.started": "2023-12-13T18:50:11.505328Z"
    }
   },
   "outputs": [],
   "source": [
    "with open(os.path.join(BASE_DIR, 'captions.txt'), 'r') as f:\n",
    "    next(f)\n",
    "    captions_doc = f.read()"
   ]
  },
  {
   "cell_type": "code",
   "execution_count": 20,
   "metadata": {
    "execution": {
     "iopub.execute_input": "2023-12-13T18:50:11.568734Z",
     "iopub.status.busy": "2023-12-13T18:50:11.568448Z",
     "iopub.status.idle": "2023-12-13T18:50:11.618720Z",
     "shell.execute_reply": "2023-12-13T18:50:11.617373Z",
     "shell.execute_reply.started": "2023-12-13T18:50:11.568708Z"
    },
    "jupyter": {
     "outputs_hidden": true
    },
    "scrolled": true
   },
   "outputs": [
    {
     "ename": "NameError",
     "evalue": "name 'captions_doc' is not defined",
     "output_type": "error",
     "traceback": [
      "\u001b[1;31m---------------------------------------------------------------------------\u001b[0m",
      "\u001b[1;31mNameError\u001b[0m                                 Traceback (most recent call last)",
      "Input \u001b[1;32mIn [20]\u001b[0m, in \u001b[0;36m<cell line: 1>\u001b[1;34m()\u001b[0m\n\u001b[1;32m----> 1\u001b[0m \u001b[38;5;28mprint\u001b[39m(\u001b[43mcaptions_doc\u001b[49m)\n",
      "\u001b[1;31mNameError\u001b[0m: name 'captions_doc' is not defined"
     ]
    }
   ],
   "source": [
    "print(captions_doc)"
   ]
  },
  {
   "cell_type": "code",
   "execution_count": 19,
   "metadata": {
    "execution": {
     "iopub.execute_input": "2023-12-13T18:50:11.623834Z",
     "iopub.status.busy": "2023-12-13T18:50:11.623542Z",
     "iopub.status.idle": "2023-12-13T18:50:11.759655Z",
     "shell.execute_reply": "2023-12-13T18:50:11.758766Z",
     "shell.execute_reply.started": "2023-12-13T18:50:11.623808Z"
    }
   },
   "outputs": [
    {
     "ename": "NameError",
     "evalue": "name 'captions_doc' is not defined",
     "output_type": "error",
     "traceback": [
      "\u001b[1;31m---------------------------------------------------------------------------\u001b[0m",
      "\u001b[1;31mNameError\u001b[0m                                 Traceback (most recent call last)",
      "Input \u001b[1;32mIn [19]\u001b[0m, in \u001b[0;36m<cell line: 2>\u001b[1;34m()\u001b[0m\n\u001b[0;32m      1\u001b[0m mapping \u001b[38;5;241m=\u001b[39m {}\n\u001b[1;32m----> 2\u001b[0m \u001b[38;5;28;01mfor\u001b[39;00m line \u001b[38;5;129;01min\u001b[39;00m tqdm(\u001b[43mcaptions_doc\u001b[49m\u001b[38;5;241m.\u001b[39msplit(\u001b[38;5;124m'\u001b[39m\u001b[38;5;130;01m\\n\u001b[39;00m\u001b[38;5;124m'\u001b[39m)):\n\u001b[0;32m      3\u001b[0m     tokens \u001b[38;5;241m=\u001b[39m line\u001b[38;5;241m.\u001b[39msplit(\u001b[38;5;124m'\u001b[39m\u001b[38;5;124m,\u001b[39m\u001b[38;5;124m'\u001b[39m)\n\u001b[0;32m      4\u001b[0m     \u001b[38;5;28;01mif\u001b[39;00m \u001b[38;5;28mlen\u001b[39m(line) \u001b[38;5;241m<\u001b[39m \u001b[38;5;241m2\u001b[39m: \n",
      "\u001b[1;31mNameError\u001b[0m: name 'captions_doc' is not defined"
     ]
    }
   ],
   "source": [
    "mapping = {}\n",
    "for line in tqdm(captions_doc.split('\\n')):\n",
    "    tokens = line.split(',')\n",
    "    if len(line) < 2: \n",
    "        continue\n",
    "    image_id, caption = tokens[0], tokens[1:]\n",
    "    image_id = image_id.split('.')[0] \n",
    "    caption = \" \".join(caption)\n",
    "    if image_id not in mapping:\n",
    "        mapping[image_id] = []\n",
    "    mapping[image_id].append(caption)"
   ]
  },
  {
   "cell_type": "code",
   "execution_count": 12,
   "metadata": {
    "execution": {
     "iopub.execute_input": "2023-12-13T18:50:11.760976Z",
     "iopub.status.busy": "2023-12-13T18:50:11.760675Z",
     "iopub.status.idle": "2023-12-13T18:50:11.767650Z",
     "shell.execute_reply": "2023-12-13T18:50:11.766666Z",
     "shell.execute_reply.started": "2023-12-13T18:50:11.760949Z"
    }
   },
   "outputs": [
    {
     "data": {
      "text/plain": [
       "8091"
      ]
     },
     "execution_count": 12,
     "metadata": {},
     "output_type": "execute_result"
    }
   ],
   "source": [
    "len(mapping)"
   ]
  },
  {
   "cell_type": "code",
   "execution_count": 13,
   "metadata": {
    "execution": {
     "iopub.execute_input": "2023-12-13T18:50:11.768994Z",
     "iopub.status.busy": "2023-12-13T18:50:11.768712Z",
     "iopub.status.idle": "2023-12-13T18:50:11.777475Z",
     "shell.execute_reply": "2023-12-13T18:50:11.776617Z",
     "shell.execute_reply.started": "2023-12-13T18:50:11.768971Z"
    }
   },
   "outputs": [],
   "source": [
    "def clean(mapping):\n",
    "    for key, captions in mapping.items():\n",
    "        for i in range(len(captions)):\n",
    "            caption = captions[i]\n",
    "            caption = caption.lower() \n",
    "            caption = caption.replace('[^A-Za-z]', '') \n",
    "            caption = caption.replace('\\s+', ' ')\n",
    "            caption = 'startseq ' + \" \".join([word for word in caption.split() if len(word)>1]) + ' endseq'\n",
    "            captions[i] = caption # re-assigning\n",
    "            "
   ]
  },
  {
   "cell_type": "code",
   "execution_count": 14,
   "metadata": {
    "execution": {
     "iopub.execute_input": "2023-12-13T18:50:11.778904Z",
     "iopub.status.busy": "2023-12-13T18:50:11.778598Z",
     "iopub.status.idle": "2023-12-13T18:50:11.790464Z",
     "shell.execute_reply": "2023-12-13T18:50:11.789677Z",
     "shell.execute_reply.started": "2023-12-13T18:50:11.778858Z"
    }
   },
   "outputs": [
    {
     "data": {
      "text/plain": [
       "['A child in a pink dress is climbing up a set of stairs in an entry way .',\n",
       " 'A girl going into a wooden building .',\n",
       " 'A little girl climbing into a wooden playhouse .',\n",
       " 'A little girl climbing the stairs to her playhouse .',\n",
       " 'A little girl in a pink dress going into a wooden cabin .']"
      ]
     },
     "execution_count": 14,
     "metadata": {},
     "output_type": "execute_result"
    }
   ],
   "source": [
    "mapping['1000268201_693b08cb0e'] "
   ]
  },
  {
   "cell_type": "code",
   "execution_count": 15,
   "metadata": {
    "execution": {
     "iopub.execute_input": "2023-12-13T18:50:11.792422Z",
     "iopub.status.busy": "2023-12-13T18:50:11.791671Z",
     "iopub.status.idle": "2023-12-13T18:50:11.955687Z",
     "shell.execute_reply": "2023-12-13T18:50:11.954829Z",
     "shell.execute_reply.started": "2023-12-13T18:50:11.792387Z"
    }
   },
   "outputs": [],
   "source": [
    "clean(mapping)"
   ]
  },
  {
   "cell_type": "code",
   "execution_count": 16,
   "metadata": {
    "execution": {
     "iopub.execute_input": "2023-12-13T18:50:11.957168Z",
     "iopub.status.busy": "2023-12-13T18:50:11.956814Z",
     "iopub.status.idle": "2023-12-13T18:50:11.963267Z",
     "shell.execute_reply": "2023-12-13T18:50:11.962400Z",
     "shell.execute_reply.started": "2023-12-13T18:50:11.957136Z"
    }
   },
   "outputs": [
    {
     "data": {
      "text/plain": [
       "['startseq child in pink dress is climbing up set of stairs in an entry way endseq',\n",
       " 'startseq girl going into wooden building endseq',\n",
       " 'startseq little girl climbing into wooden playhouse endseq',\n",
       " 'startseq little girl climbing the stairs to her playhouse endseq',\n",
       " 'startseq little girl in pink dress going into wooden cabin endseq']"
      ]
     },
     "execution_count": 16,
     "metadata": {},
     "output_type": "execute_result"
    }
   ],
   "source": [
    "mapping['1000268201_693b08cb0e']"
   ]
  },
  {
   "cell_type": "code",
   "execution_count": 17,
   "metadata": {
    "execution": {
     "iopub.execute_input": "2023-12-13T18:50:11.965312Z",
     "iopub.status.busy": "2023-12-13T18:50:11.964542Z",
     "iopub.status.idle": "2023-12-13T18:50:11.982182Z",
     "shell.execute_reply": "2023-12-13T18:50:11.981399Z",
     "shell.execute_reply.started": "2023-12-13T18:50:11.965278Z"
    }
   },
   "outputs": [],
   "source": [
    "all_captions = []\n",
    "for key in mapping:\n",
    "    for caption in mapping[key]:\n",
    "        all_captions.append(caption)"
   ]
  },
  {
   "cell_type": "code",
   "execution_count": 18,
   "metadata": {
    "execution": {
     "iopub.execute_input": "2023-12-13T18:50:11.983507Z",
     "iopub.status.busy": "2023-12-13T18:50:11.983225Z",
     "iopub.status.idle": "2023-12-13T18:50:11.999063Z",
     "shell.execute_reply": "2023-12-13T18:50:11.998180Z",
     "shell.execute_reply.started": "2023-12-13T18:50:11.983475Z"
    }
   },
   "outputs": [
    {
     "data": {
      "text/plain": [
       "40455"
      ]
     },
     "execution_count": 18,
     "metadata": {},
     "output_type": "execute_result"
    }
   ],
   "source": [
    "len(all_captions)"
   ]
  },
  {
   "cell_type": "code",
   "execution_count": 19,
   "metadata": {
    "execution": {
     "iopub.execute_input": "2023-12-13T18:50:12.000649Z",
     "iopub.status.busy": "2023-12-13T18:50:12.000263Z",
     "iopub.status.idle": "2023-12-13T18:50:12.009965Z",
     "shell.execute_reply": "2023-12-13T18:50:12.009065Z",
     "shell.execute_reply.started": "2023-12-13T18:50:12.000612Z"
    }
   },
   "outputs": [
    {
     "data": {
      "text/plain": [
       "['startseq child in pink dress is climbing up set of stairs in an entry way endseq',\n",
       " 'startseq girl going into wooden building endseq',\n",
       " 'startseq little girl climbing into wooden playhouse endseq',\n",
       " 'startseq little girl climbing the stairs to her playhouse endseq',\n",
       " 'startseq little girl in pink dress going into wooden cabin endseq',\n",
       " 'startseq black dog and spotted dog are fighting endseq',\n",
       " 'startseq black dog and tri-colored dog playing with each other on the road endseq',\n",
       " 'startseq black dog and white dog with brown spots are staring at each other in the street endseq',\n",
       " 'startseq two dogs of different breeds looking at each other on the road endseq',\n",
       " 'startseq two dogs on pavement moving toward each other endseq']"
      ]
     },
     "execution_count": 19,
     "metadata": {},
     "output_type": "execute_result"
    }
   ],
   "source": [
    "all_captions[:10] #first 10 captions"
   ]
  },
  {
   "cell_type": "code",
   "execution_count": 20,
   "metadata": {
    "execution": {
     "iopub.execute_input": "2023-12-13T18:50:12.011281Z",
     "iopub.status.busy": "2023-12-13T18:50:12.010969Z",
     "iopub.status.idle": "2023-12-13T18:50:12.728002Z",
     "shell.execute_reply": "2023-12-13T18:50:12.726905Z",
     "shell.execute_reply.started": "2023-12-13T18:50:12.011248Z"
    }
   },
   "outputs": [],
   "source": [
    "tokenizer = Tokenizer()\n",
    "tokenizer.fit_on_texts(all_captions)\n",
    "vocab_size = len(tokenizer.word_index) + 1"
   ]
  },
  {
   "cell_type": "code",
   "execution_count": 21,
   "metadata": {
    "execution": {
     "iopub.execute_input": "2023-12-13T18:50:12.729499Z",
     "iopub.status.busy": "2023-12-13T18:50:12.729193Z",
     "iopub.status.idle": "2023-12-13T18:50:12.735440Z",
     "shell.execute_reply": "2023-12-13T18:50:12.734488Z",
     "shell.execute_reply.started": "2023-12-13T18:50:12.729472Z"
    }
   },
   "outputs": [
    {
     "data": {
      "text/plain": [
       "8485"
      ]
     },
     "execution_count": 21,
     "metadata": {},
     "output_type": "execute_result"
    }
   ],
   "source": [
    "vocab_size"
   ]
  },
  {
   "cell_type": "code",
   "execution_count": 22,
   "metadata": {
    "execution": {
     "iopub.execute_input": "2023-12-13T18:50:12.736968Z",
     "iopub.status.busy": "2023-12-13T18:50:12.736673Z",
     "iopub.status.idle": "2023-12-13T18:50:12.781669Z",
     "shell.execute_reply": "2023-12-13T18:50:12.780791Z",
     "shell.execute_reply.started": "2023-12-13T18:50:12.736943Z"
    }
   },
   "outputs": [
    {
     "data": {
      "text/plain": [
       "35"
      ]
     },
     "execution_count": 22,
     "metadata": {},
     "output_type": "execute_result"
    }
   ],
   "source": [
    "max_length = max( len(caption.split()) for caption in all_captions )\n",
    "max_length"
   ]
  },
  {
   "cell_type": "code",
   "execution_count": 23,
   "metadata": {
    "execution": {
     "iopub.execute_input": "2023-12-13T18:50:12.783572Z",
     "iopub.status.busy": "2023-12-13T18:50:12.782938Z",
     "iopub.status.idle": "2023-12-13T18:50:12.789724Z",
     "shell.execute_reply": "2023-12-13T18:50:12.788913Z",
     "shell.execute_reply.started": "2023-12-13T18:50:12.783538Z"
    }
   },
   "outputs": [
    {
     "name": "stdout",
     "output_type": "stream",
     "text": [
      "Data to be train: 7281\n",
      "Data to be test: 810\n",
      "810\n"
     ]
    }
   ],
   "source": [
    "image_ids = list(mapping.keys())\n",
    "split = int(len(image_ids) * 0.90) # 90% data to be train\n",
    "print(\"Data to be train:\", split)\n",
    "print(\"Data to be test:\", len(mapping)-split)\n",
    "\n",
    "train = image_ids[:split]\n",
    "test = image_ids[split:]\n",
    "\n",
    "print(len(test))"
   ]
  },
  {
   "cell_type": "code",
   "execution_count": 25,
   "metadata": {
    "execution": {
     "iopub.execute_input": "2023-12-13T18:50:12.801664Z",
     "iopub.status.busy": "2023-12-13T18:50:12.801432Z",
     "iopub.status.idle": "2023-12-13T18:50:12.814412Z",
     "shell.execute_reply": "2023-12-13T18:50:12.813644Z",
     "shell.execute_reply.started": "2023-12-13T18:50:12.801644Z"
    }
   },
   "outputs": [],
   "source": [
    "def data_generator(data_keys, mapping, features, tokenizer, max_length, vocab_size, batch_size):\n",
    "    X1, X2, y = list(), list(), list()\n",
    "    n = 0\n",
    "    \n",
    "    while 1:\n",
    "        for key in data_keys:\n",
    "            n = n+1\n",
    "            captions = mapping[key]\n",
    "            for caption in captions:\n",
    "                seq = tokenizer.texts_to_sequences([caption])[0]\n",
    "                for i in range(1, len(seq)):\n",
    "                    in_seq, out_seq = seq[:i], seq[i] \n",
    "                    in_seq = pad_sequences([in_seq], maxlen = max_length)[0]\n",
    "                    out_seq = to_categorical([out_seq], num_classes=vocab_size)[0]\n",
    "  \n",
    "                    X1.append(features[key][0]) \n",
    "                    X2.append(in_seq) \n",
    "                    y.append(out_seq) \n",
    "            \n",
    "            if n == batch_size:\n",
    "                X1, X2, y = np.array(X1), np.array(X2), np.array(y)\n",
    "                yield [X1, X2], y\n",
    "                X1, X2, y = list(), list(), list()\n",
    "                n = 0\n",
    "                    "
   ]
  },
  {
   "cell_type": "code",
   "execution_count": null,
   "metadata": {},
   "outputs": [],
   "source": [
    "def create_model():\n",
    "    inputs1 = Input(shape=(4096,)) \n",
    "    fe1 = Dropout(0.4)(inputs1) \n",
    "    fe2 = Dense(256, activation = 'relu')(fe1) \n",
    "\n",
    "    inputs2 = Input(shape=(max_length,))\n",
    "    se1 = Embedding(vocab_size, 256, mask_zero=True)(inputs2) \n",
    "    se2 = Dropout(0.4)(se1)\n",
    "    se3 = LSTM(256)(se2)\n",
    "    decoder1 = add([fe2, se3])\n",
    "    decoder2 = Dense(256, activation='relu')(decoder1)\n",
    "    outputs = Dense(vocab_size, activation='softmax')(decoder2) \n",
    "    model = Model(inputs=[inputs1, inputs2], outputs=outputs)"
   ]
  },
  {
   "cell_type": "code",
   "execution_count": null,
   "metadata": {},
   "outputs": [],
   "source": [
    "model = create_model()"
   ]
  },
  {
   "cell_type": "code",
   "execution_count": 26,
   "metadata": {
    "execution": {
     "iopub.execute_input": "2023-12-13T18:50:12.815637Z",
     "iopub.status.busy": "2023-12-13T18:50:12.815395Z",
     "iopub.status.idle": "2023-12-13T18:50:14.409184Z",
     "shell.execute_reply": "2023-12-13T18:50:14.408244Z",
     "shell.execute_reply.started": "2023-12-13T18:50:12.815615Z"
    }
   },
   "outputs": [
    {
     "name": "stdout",
     "output_type": "stream",
     "text": [
      "You must install pydot (`pip install pydot`) and install graphviz (see instructions at https://graphviz.gitlab.io/download/) for plot_model to work.\n"
     ]
    }
   ],
   "source": [
    "model.compile(loss='categorical_crossentropy', optimizer='adam')"
   ]
  },
  {
   "cell_type": "code",
   "execution_count": null,
   "metadata": {},
   "outputs": [],
   "source": [
    "epochs = 20 \n",
    "batch_size = 32\n",
    "steps = len(train)//batch_size "
   ]
  },
  {
   "cell_type": "code",
   "execution_count": 27,
   "metadata": {
    "execution": {
     "iopub.execute_input": "2023-12-13T18:50:14.410939Z",
     "iopub.status.busy": "2023-12-13T18:50:14.410578Z",
     "iopub.status.idle": "2023-12-13T19:05:30.495296Z",
     "shell.execute_reply": "2023-12-13T19:05:30.494148Z",
     "shell.execute_reply.started": "2023-12-13T18:50:14.410906Z"
    },
    "jupyter": {
     "outputs_hidden": true
    }
   },
   "outputs": [
    {
     "name": "stdout",
     "output_type": "stream",
     "text": [
      "227/227 [==============================] - 272s 1s/step - loss: 5.2318\n",
      "227/227 [==============================] - 272s 1s/step - loss: 4.0280\n",
      "227/227 [==============================] - 269s 1s/step - loss: 3.5966\n",
      "227/227 [==============================] - 267s 1s/step - loss: 3.3277\n",
      "227/227 [==============================] - 266s 1s/step - loss: 3.1292\n",
      "227/227 [==============================] - 266s 1s/step - loss: 2.9798\n",
      "227/227 [==============================] - 266s 1s/step - loss: 2.8639\n",
      "227/227 [==============================] - 264s 1s/step - loss: 2.7707\n",
      "227/227 [==============================] - 269s 1s/step - loss: 2.6877\n",
      "227/227 [==============================] - 267s 1s/step - loss: 2.6163\n",
      "227/227 [==============================] - 265s 1s/step - loss: 2.5562\n",
      "227/227 [==============================] - 266s 1s/step - loss: 2.5050\n",
      "227/227 [==============================] - 268s 1s/step - loss: 2.4541\n",
      "227/227 [==============================] - 266s 1s/step - loss: 2.4122\n",
      "227/227 [==============================] - 266s 1s/step - loss: 2.3754\n",
      "227/227 [==============================] - 268s 1s/step - loss: 2.3376\n",
      "227/227 [==============================] - 266s 1s/step - loss: 2.3020\n",
      "227/227 [==============================] - 265s 1s/step - loss: 2.2691\n",
      "227/227 [==============================] - 266s 1s/step - loss: 2.2403\n",
      "227/227 [==============================] - 265s 1s/step - loss: 2.2106\n"
     ]
    }
   ],
   "source": [
    "for i in range(epochs): \n",
    "    generator = data_generator(train, mapping, features, tokenizer, max_length, vocab_size, batch_size)\n",
    "    model.fit(generator, epochs=1, steps_per_epoch=steps, verbose=1)"
   ]
  },
  {
   "cell_type": "code",
   "execution_count": 28,
   "metadata": {
    "execution": {
     "iopub.execute_input": "2023-12-13T19:05:30.497988Z",
     "iopub.status.busy": "2023-12-13T19:05:30.497136Z",
     "iopub.status.idle": "2023-12-13T19:05:30.628498Z",
     "shell.execute_reply": "2023-12-13T19:05:30.627508Z",
     "shell.execute_reply.started": "2023-12-13T19:05:30.497947Z"
    }
   },
   "outputs": [],
   "source": [
    "model.save('best_model.h5')"
   ]
  },
  {
   "cell_type": "code",
   "execution_count": 29,
   "metadata": {
    "execution": {
     "iopub.execute_input": "2023-12-13T19:05:30.634619Z",
     "iopub.status.busy": "2023-12-13T19:05:30.634333Z",
     "iopub.status.idle": "2023-12-13T19:05:30.639650Z",
     "shell.execute_reply": "2023-12-13T19:05:30.638618Z",
     "shell.execute_reply.started": "2023-12-13T19:05:30.634594Z"
    }
   },
   "outputs": [],
   "source": [
    "def idx_to_word(integer, tokenizer):\n",
    "    for word, index in tokenizer.word_index.items():\n",
    "        if index == integer:\n",
    "            return word\n",
    "    return None"
   ]
  },
  {
   "cell_type": "code",
   "execution_count": 30,
   "metadata": {
    "execution": {
     "iopub.execute_input": "2023-12-13T19:05:30.641201Z",
     "iopub.status.busy": "2023-12-13T19:05:30.640843Z",
     "iopub.status.idle": "2023-12-13T19:05:30.653365Z",
     "shell.execute_reply": "2023-12-13T19:05:30.652568Z",
     "shell.execute_reply.started": "2023-12-13T19:05:30.641167Z"
    }
   },
   "outputs": [],
   "source": [
    "def predict_caption(model, image, tokenizer, max_length):\n",
    "    in_text = 'startseq'\n",
    "    for i in range(max_length):\n",
    "        sequence = tokenizer.texts_to_sequences([in_text])[0]\n",
    "        sequence = pad_sequences([sequence], max_length)\n",
    "        yhat = model.predict([image, sequence], verbose=0) \n",
    "        yhat = np.argmax(yhat)\n",
    "        word = idx_to_word(yhat, tokenizer)\n",
    "        if word is None:\n",
    "            break\n",
    "        in_text += \" \" + word\n",
    "        if word == 'endseq':\n",
    "            break\n",
    "        \n",
    "    return in_text "
   ]
  },
  {
   "cell_type": "code",
   "execution_count": 31,
   "metadata": {
    "execution": {
     "iopub.execute_input": "2023-12-13T19:05:30.654730Z",
     "iopub.status.busy": "2023-12-13T19:05:30.654452Z",
     "iopub.status.idle": "2023-12-13T19:13:54.139733Z",
     "shell.execute_reply": "2023-12-13T19:13:54.138657Z",
     "shell.execute_reply.started": "2023-12-13T19:05:30.654706Z"
    }
   },
   "outputs": [
    {
     "data": {
      "application/vnd.jupyter.widget-view+json": {
       "model_id": "beed289414f746dd98419cc72f04987c",
       "version_major": 2,
       "version_minor": 0
      },
      "text/plain": [
       "  0%|          | 0/810 [00:00<?, ?it/s]"
      ]
     },
     "metadata": {},
     "output_type": "display_data"
    },
    {
     "name": "stdout",
     "output_type": "stream",
     "text": [
      "BLEU-1: 0.528515\n",
      "BLEU-2: 0.306071\n"
     ]
    }
   ],
   "source": [
    "actual, predicted = list(), list()\n",
    "\n",
    "for key in tqdm(test):\n",
    "\n",
    "    captions = mapping[key]\n",
    "    y_pred = predict_caption(model, features[key], tokenizer, max_length)\n",
    "    \n",
    "    actual_captions = [caption.split() for caption in captions] #split into words\n",
    "    actual.append(actual_captions)\n",
    "    \n",
    "    y_pred = y_pred.split() \n",
    "    predicted.append(y_pred)\n",
    "    \n",
    "print(\"BLEU-1: %f\" % corpus_bleu(actual, predicted, weights=(1.0, 0, 0, 0))) # one gram\n",
    "print(\"BLEU-2: %f\" % corpus_bleu(actual, predicted, weights=(0.5, 0.5, 0, 0))) # two-gram"
   ]
  },
  {
   "cell_type": "code",
   "execution_count": 33,
   "metadata": {
    "execution": {
     "iopub.execute_input": "2023-12-13T19:14:07.040064Z",
     "iopub.status.busy": "2023-12-13T19:14:07.039736Z",
     "iopub.status.idle": "2023-12-13T19:14:07.048170Z",
     "shell.execute_reply": "2023-12-13T19:14:07.047209Z",
     "shell.execute_reply.started": "2023-12-13T19:14:07.040034Z"
    }
   },
   "outputs": [],
   "source": [
    "def generate_caption(image_name):\n",
    "    image_id = image_name.split('.')[0]\n",
    "    image_path = os.path.join(BASE_DIR, \"Images\", image_name)\n",
    "    image = Image.open(image_path)\n",
    "    captions = mapping[image_id]\n",
    "\n",
    "    print('-------------------------Actual--------------------------------')\n",
    "\n",
    "    for caption in captions:\n",
    "        print(caption)\n",
    "\n",
    "    print('-------------------------Predicted--------------------------------')\n",
    "\n",
    "    y_pred = predict_caption(model, features[image_id], tokenizer, max_length)\n",
    "    print(y_pred)\n",
    "\n",
    "    plt.imshow(image)"
   ]
  },
  {
   "cell_type": "code",
   "execution_count": 35,
   "metadata": {
    "execution": {
     "iopub.execute_input": "2023-12-13T19:14:07.049681Z",
     "iopub.status.busy": "2023-12-13T19:14:07.049416Z",
     "iopub.status.idle": "2023-12-13T19:14:08.301432Z",
     "shell.execute_reply": "2023-12-13T19:14:08.300475Z",
     "shell.execute_reply.started": "2023-12-13T19:14:07.049659Z"
    }
   },
   "outputs": [
    {
     "name": "stdout",
     "output_type": "stream",
     "text": [
      "-------------------------Actual--------------------------------\n",
      "startseq man in an orange hat starring at something endseq\n",
      "startseq man wears an orange hat and glasses endseq\n",
      "startseq man with gauges and glasses is wearing blitz hat endseq\n",
      "startseq man with glasses is wearing beer can crocheted hat endseq\n",
      "startseq the man with pierced ears is wearing glasses and an orange hat endseq\n",
      "-------------------------Predicted--------------------------------\n",
      "startseq man wearing red hat and hat smiles endseq\n"
     ]
    },
    {
     "data": {
      "image/png": "[encoded data removed]",
      "text/plain": [
       "<Figure size 432x288 with 1 Axes>"
      ]
     },
     "metadata": {
      "needs_background": "light"
     },
     "output_type": "display_data"
    }
   ],
   "source": [
    "image_name = \"95734036_bef6d1a871.jpg\" \n",
    "\n",
    "generate_caption(image_name)"
   ]
  },
  {
   "cell_type": "code",
   "execution_count": null,
   "metadata": {},
   "outputs": [],
   "source": []
  }
 ],
 "metadata": {
  "kaggle": {
   "accelerator": "nvidiaTeslaT4",
   "dataSources": [
    {
     "datasetId": 623289,
     "sourceId": 1111676,
     "sourceType": "datasetVersion"
    }
   ],
   "dockerImageVersionId": 30626,
   "isGpuEnabled": true,
   "isInternetEnabled": true,
   "language": "python",
   "sourceType": "notebook"
  },
  "kernelspec": {
   "display_name": "Python 3 (ipykernel)",
   "language": "python",
   "name": "python3"
  },
  "language_info": {
   "codemirror_mode": {
    "name": "ipython",
    "version": 3
   },
   "file_extension": ".py",
   "mimetype": "text/x-python",
   "name": "python",
   "nbconvert_exporter": "python",
   "pygments_lexer": "ipython3",
   "version": "3.9.12"
  }
 },
 "nbformat": 4,
 "nbformat_minor": 4
}
